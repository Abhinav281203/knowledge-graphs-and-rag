{
 "cells": [
  {
   "cell_type": "code",
   "execution_count": null,
   "id": "ea7390e8-b3b6-449e-9819-9cbec935fbdf",
   "metadata": {
    "colab": {
     "base_uri": "https://localhost:8080/"
    },
    "id": "ea7390e8-b3b6-449e-9819-9cbec935fbdf",
    "outputId": "85c9b42c-53a0-4ebf-d33e-26ed90826c67"
   },
   "outputs": [
    {
     "name": "stdout",
     "output_type": "stream",
     "text": [
      "Collecting langchain\n",
      "  Downloading langchain-0.0.321-py3-none-any.whl (1.9 MB)\n",
      "\u001b[2K     \u001b[90m━━━━━━━━━━━━━━━━━━━━━━━━━━━━━━━━━━━━━━━━\u001b[0m \u001b[32m1.9/1.9 MB\u001b[0m \u001b[31m19.1 MB/s\u001b[0m eta \u001b[36m0:00:00\u001b[0m\n",
      "\u001b[?25hCollecting openai\n",
      "  Downloading openai-0.28.1-py3-none-any.whl (76 kB)\n",
      "\u001b[2K     \u001b[90m━━━━━━━━━━━━━━━━━━━━━━━━━━━━━━━━━━━━━━━━\u001b[0m \u001b[32m77.0/77.0 kB\u001b[0m \u001b[31m6.5 MB/s\u001b[0m eta \u001b[36m0:00:00\u001b[0m\n",
      "\u001b[?25hCollecting wikipedia\n",
      "  Downloading wikipedia-1.4.0.tar.gz (27 kB)\n",
      "  Preparing metadata (setup.py) ... \u001b[?25l\u001b[?25hdone\n",
      "Collecting tiktoken\n",
      "  Downloading tiktoken-0.5.1-cp310-cp310-manylinux_2_17_x86_64.manylinux2014_x86_64.whl (2.0 MB)\n",
      "\u001b[2K     \u001b[90m━━━━━━━━━━━━━━━━━━━━━━━━━━━━━━━━━━━━━━━━\u001b[0m \u001b[32m2.0/2.0 MB\u001b[0m \u001b[31m64.2 MB/s\u001b[0m eta \u001b[36m0:00:00\u001b[0m\n",
      "\u001b[?25hCollecting neo4j\n",
      "  Downloading neo4j-5.13.0.tar.gz (192 kB)\n",
      "\u001b[2K     \u001b[90m━━━━━━━━━━━━━━━━━━━━━━━━━━━━━━━━━━━━━━━━\u001b[0m \u001b[32m192.3/192.3 kB\u001b[0m \u001b[31m17.8 MB/s\u001b[0m eta \u001b[36m0:00:00\u001b[0m\n",
      "\u001b[?25h  Installing build dependencies ... \u001b[?25l\u001b[?25hdone\n",
      "  Getting requirements to build wheel ... \u001b[?25l\u001b[?25hdone\n",
      "  Installing backend dependencies ... \u001b[?25l\u001b[?25hdone\n",
      "  Preparing metadata (pyproject.toml) ... \u001b[?25l\u001b[?25hdone\n",
      "Requirement already satisfied: PyYAML>=5.3 in /usr/local/lib/python3.10/dist-packages (from langchain) (6.0.1)\n",
      "Requirement already satisfied: SQLAlchemy<3,>=1.4 in /usr/local/lib/python3.10/dist-packages (from langchain) (2.0.22)\n",
      "Requirement already satisfied: aiohttp<4.0.0,>=3.8.3 in /usr/local/lib/python3.10/dist-packages (from langchain) (3.8.6)\n",
      "Requirement already satisfied: anyio<4.0 in /usr/local/lib/python3.10/dist-packages (from langchain) (3.7.1)\n",
      "Requirement already satisfied: async-timeout<5.0.0,>=4.0.0 in /usr/local/lib/python3.10/dist-packages (from langchain) (4.0.3)\n",
      "Collecting dataclasses-json<0.7,>=0.5.7 (from langchain)\n",
      "  Downloading dataclasses_json-0.6.1-py3-none-any.whl (27 kB)\n",
      "Collecting jsonpatch<2.0,>=1.33 (from langchain)\n",
      "  Downloading jsonpatch-1.33-py2.py3-none-any.whl (12 kB)\n",
      "Collecting langsmith<0.1.0,>=0.0.43 (from langchain)\n",
      "  Downloading langsmith-0.0.49-py3-none-any.whl (41 kB)\n",
      "\u001b[2K     \u001b[90m━━━━━━━━━━━━━━━━━━━━━━━━━━━━━━━━━━━━━━━━\u001b[0m \u001b[32m41.9/41.9 kB\u001b[0m \u001b[31m2.6 MB/s\u001b[0m eta \u001b[36m0:00:00\u001b[0m\n",
      "\u001b[?25hRequirement already satisfied: numpy<2,>=1 in /usr/local/lib/python3.10/dist-packages (from langchain) (1.23.5)\n",
      "Requirement already satisfied: pydantic<3,>=1 in /usr/local/lib/python3.10/dist-packages (from langchain) (1.10.13)\n",
      "Requirement already satisfied: requests<3,>=2 in /usr/local/lib/python3.10/dist-packages (from langchain) (2.31.0)\n",
      "Requirement already satisfied: tenacity<9.0.0,>=8.1.0 in /usr/local/lib/python3.10/dist-packages (from langchain) (8.2.3)\n",
      "Requirement already satisfied: tqdm in /usr/local/lib/python3.10/dist-packages (from openai) (4.66.1)\n",
      "Requirement already satisfied: beautifulsoup4 in /usr/local/lib/python3.10/dist-packages (from wikipedia) (4.11.2)\n",
      "Requirement already satisfied: regex>=2022.1.18 in /usr/local/lib/python3.10/dist-packages (from tiktoken) (2023.6.3)\n",
      "Requirement already satisfied: pytz in /usr/local/lib/python3.10/dist-packages (from neo4j) (2023.3.post1)\n",
      "Requirement already satisfied: attrs>=17.3.0 in /usr/local/lib/python3.10/dist-packages (from aiohttp<4.0.0,>=3.8.3->langchain) (23.1.0)\n",
      "Requirement already satisfied: charset-normalizer<4.0,>=2.0 in /usr/local/lib/python3.10/dist-packages (from aiohttp<4.0.0,>=3.8.3->langchain) (3.3.0)\n",
      "Requirement already satisfied: multidict<7.0,>=4.5 in /usr/local/lib/python3.10/dist-packages (from aiohttp<4.0.0,>=3.8.3->langchain) (6.0.4)\n",
      "Requirement already satisfied: yarl<2.0,>=1.0 in /usr/local/lib/python3.10/dist-packages (from aiohttp<4.0.0,>=3.8.3->langchain) (1.9.2)\n",
      "Requirement already satisfied: frozenlist>=1.1.1 in /usr/local/lib/python3.10/dist-packages (from aiohttp<4.0.0,>=3.8.3->langchain) (1.4.0)\n",
      "Requirement already satisfied: aiosignal>=1.1.2 in /usr/local/lib/python3.10/dist-packages (from aiohttp<4.0.0,>=3.8.3->langchain) (1.3.1)\n",
      "Requirement already satisfied: idna>=2.8 in /usr/local/lib/python3.10/dist-packages (from anyio<4.0->langchain) (3.4)\n",
      "Requirement already satisfied: sniffio>=1.1 in /usr/local/lib/python3.10/dist-packages (from anyio<4.0->langchain) (1.3.0)\n",
      "Requirement already satisfied: exceptiongroup in /usr/local/lib/python3.10/dist-packages (from anyio<4.0->langchain) (1.1.3)\n",
      "Collecting marshmallow<4.0.0,>=3.18.0 (from dataclasses-json<0.7,>=0.5.7->langchain)\n",
      "  Downloading marshmallow-3.20.1-py3-none-any.whl (49 kB)\n",
      "\u001b[2K     \u001b[90m━━━━━━━━━━━━━━━━━━━━━━━━━━━━━━━━━━━━━━━━\u001b[0m \u001b[32m49.4/49.4 kB\u001b[0m \u001b[31m3.6 MB/s\u001b[0m eta \u001b[36m0:00:00\u001b[0m\n",
      "\u001b[?25hCollecting typing-inspect<1,>=0.4.0 (from dataclasses-json<0.7,>=0.5.7->langchain)\n",
      "  Downloading typing_inspect-0.9.0-py3-none-any.whl (8.8 kB)\n",
      "Collecting jsonpointer>=1.9 (from jsonpatch<2.0,>=1.33->langchain)\n",
      "  Downloading jsonpointer-2.4-py2.py3-none-any.whl (7.8 kB)\n",
      "Requirement already satisfied: typing-extensions>=4.2.0 in /usr/local/lib/python3.10/dist-packages (from pydantic<3,>=1->langchain) (4.5.0)\n",
      "Requirement already satisfied: urllib3<3,>=1.21.1 in /usr/local/lib/python3.10/dist-packages (from requests<3,>=2->langchain) (2.0.7)\n",
      "Requirement already satisfied: certifi>=2017.4.17 in /usr/local/lib/python3.10/dist-packages (from requests<3,>=2->langchain) (2023.7.22)\n",
      "Requirement already satisfied: greenlet!=0.4.17 in /usr/local/lib/python3.10/dist-packages (from SQLAlchemy<3,>=1.4->langchain) (3.0.0)\n",
      "Requirement already satisfied: soupsieve>1.2 in /usr/local/lib/python3.10/dist-packages (from beautifulsoup4->wikipedia) (2.5)\n",
      "Requirement already satisfied: packaging>=17.0 in /usr/local/lib/python3.10/dist-packages (from marshmallow<4.0.0,>=3.18.0->dataclasses-json<0.7,>=0.5.7->langchain) (23.2)\n",
      "Collecting mypy-extensions>=0.3.0 (from typing-inspect<1,>=0.4.0->dataclasses-json<0.7,>=0.5.7->langchain)\n",
      "  Downloading mypy_extensions-1.0.0-py3-none-any.whl (4.7 kB)\n",
      "Building wheels for collected packages: wikipedia, neo4j\n",
      "  Building wheel for wikipedia (setup.py) ... \u001b[?25l\u001b[?25hdone\n",
      "  Created wheel for wikipedia: filename=wikipedia-1.4.0-py3-none-any.whl size=11678 sha256=e5d21b29a0c385fd1245fcc98afda8277528002c2159f7dadf04b420612d62c1\n",
      "  Stored in directory: /root/.cache/pip/wheels/5e/b6/c5/93f3dec388ae76edc830cb42901bb0232504dfc0df02fc50de\n",
      "  Building wheel for neo4j (pyproject.toml) ... \u001b[?25l\u001b[?25hdone\n",
      "  Created wheel for neo4j: filename=neo4j-5.13.0-py3-none-any.whl size=265313 sha256=32d2ebf8fb4bcf3b1439a1198cd09cfd369eb0c68dd2b0d8067acd1ef159e15b\n",
      "  Stored in directory: /root/.cache/pip/wheels/7b/1d/b6/1be3a1e9de57bc832b7fcebbbf884186d8155bb6f1cc45be99\n",
      "Successfully built wikipedia neo4j\n",
      "Installing collected packages: neo4j, mypy-extensions, marshmallow, jsonpointer, wikipedia, typing-inspect, tiktoken, langsmith, jsonpatch, openai, dataclasses-json, langchain\n",
      "\u001b[31mERROR: pip's dependency resolver does not currently take into account all the packages that are installed. This behaviour is the source of the following dependency conflicts.\n",
      "llmx 0.0.15a0 requires cohere, which is not installed.\u001b[0m\u001b[31m\n",
      "\u001b[0mSuccessfully installed dataclasses-json-0.6.1 jsonpatch-1.33 jsonpointer-2.4 langchain-0.0.321 langsmith-0.0.49 marshmallow-3.20.1 mypy-extensions-1.0.0 neo4j-5.13.0 openai-0.28.1 tiktoken-0.5.1 typing-inspect-0.9.0 wikipedia-1.4.0\n"
     ]
    }
   ],
   "source": [
    "!pip install langchain openai wikipedia tiktoken neo4j"
   ]
  },
  {
   "cell_type": "code",
   "execution_count": null,
   "id": "e7e57380-e2a7-4dce-94a9-76f291c49e78",
   "metadata": {
    "id": "e7e57380-e2a7-4dce-94a9-76f291c49e78"
   },
   "outputs": [],
   "source": [
    "import os\n",
    "\n",
    "from langchain.vectorstores.neo4j_vector import Neo4jVector\n",
    "from langchain.document_loaders import WikipediaLoader\n",
    "from langchain.embeddings.openai import OpenAIEmbeddings\n",
    "from langchain.text_splitter import CharacterTextSplitter\n",
    "\n",
    "os.environ[\"OPENAI_API_KEY\"] = \"***********************\""
   ]
  },
  {
   "cell_type": "code",
   "execution_count": null,
   "id": "bd210816-659c-4e99-80ed-ce17abd9e409",
   "metadata": {
    "colab": {
     "base_uri": "https://localhost:8080/"
    },
    "id": "bd210816-659c-4e99-80ed-ce17abd9e409",
    "outputId": "97d341bd-4892-4045-ccf1-72f353b6bce3"
   },
   "outputs": [
    {
     "name": "stdout",
     "output_type": "stream",
     "text": [
      "[Document(page_content='Hardeep Singh Nijjar (11 October 1977 – 18 June 2023) was a Canadian  Sikh separatist leader involved with the Khalistan movement, which calls for an independent Sikh state.Born in India, Nijjar migrated to Canada in the mid-1990s. Sikh organizations viewed Nijjar as a human rights activist, while the Indian government accused him of being a criminal and terrorist affiliated with the militant Khalistan Tiger Force, and sought his arrest. Nijjar and his supporters rejected these allegations, saying he advocated peaceful means for creation of Khalistan. Nijjar gained prominence in 2019, when he became the leader of Guru Nanak Sikh Gurudwara (temple) in Surrey, British Columbia, and became an advocate of Sikh separatism. Nijjar was also associated with Sikhs for Justice (SFJ), and spearheaded the group\\'s Khalistan Referendum 2020 campaign.On 18 June 2023, Nijjar was shot and killed in the parking lot of a Sikh temple in British Columbia. On 18 September 2023, Canadian Prime Minister Justin Trudeau stated that Canadian intelligence agencies were \"pursuing credible allegations of a potential link\" between Indian government agents and the assassination of Nijjar. After the killing, Canada expelled an Indian diplomat from the country. India\\'s foreign ministry denied involvement in the killing, and expelled a top Canadian diplomat in a tit-for-tat move. As of October 2023, the Canadian authorities have not made any arrests in connection with the murder, and Canada has provided no evidence implicating the Indian government.\\n\\n\\n== Early life and immigration to Canada ==\\nNijjar was originally from a village in Jalandhar, Punjab, and migrated to Canada in the mid-1990s. According to The Tribune, Nijjar was arrested in India in 1995 amidst a crackdown on an armed insurgency in Punjab.Nijjar arrived in Canada on 10 February 1997, using a fraudulent passport that identified him as \"Ravi Sharma\", and made a refugee claim. In a sworn affidavit, he indicated that his brother, father and uncle had all been arrested, and he himself had been tortured by police. His claim was rejected, as officials thought his documentation was partially fabricated; officials suspected that a letter, supposedly written by an Indian physician and attesting to his torture, was forged. The panel wrote that it did \"not believe that the claimant was arrested by the police and that he was tortured by the police.\"Eleven days after his claim was denied, Nijjar married a woman who sponsored his immigration. Officials noted that the woman had arrived in Canada in 1997, married to another man, and rejected the claim as a marriage of convenience. In 2001, Nijjar appealed this ruling but lost.He was ultimately permitted entry into Canada. According to Marc Miller, the Canadian Minister of Immigration, Refugees and Citizenship, Nijjar became a Canadian citizen on 25 May 2007.\\n\\n\\n== Involvement with Sikh organisations ==\\nIn Canada, Nijjar operated a plumbing business and was married with two sons. He lived in Surrey, British Columbia, where he was a leader of the local Sikh community. He became the president of the Guru Nanak Sikh Gurdwara, a Sikh temple in Surrey, in 2018. The New York Times described the congregation as \"the oldest, largest and most politically powerful of the dozen or so Sikh temples in Surrey.\" Nijjar was re-affirmed as president of Guru Nanak Sikh Gurdwara in 2022.Nijjar was a leader of the Canadian branch of Sikhs for Justice. In 2012, he circulated petitions collecting signatures, calling on the United Nations to recognize anti-Sikh violence in India in 1984 as a genocide. In the months before his death, he was organizing an unofficial referendum among the Sikh diaspora, sponsored by Sikhs for Justice, in support of the Khalistan movement, which seeks an independent Sikh state. The Khalistan movement is banned in India, but has support within the Sikh diaspora. After his death, the World Sikh Organization of Canada said that Nijjar \"often led peaceful protes', metadata={'title': 'Hardeep Singh Nijjar', 'summary': 'Hardeep Singh Nijjar (11 October 1977 – 18 June 2023) was a Canadian  Sikh separatist leader involved with the Khalistan movement, which calls for an independent Sikh state.Born in India, Nijjar migrated to Canada in the mid-1990s. Sikh organizations viewed Nijjar as a human rights activist, while the Indian government accused him of being a criminal and terrorist affiliated with the militant Khalistan Tiger Force, and sought his arrest. Nijjar and his supporters rejected these allegations, saying he advocated peaceful means for creation of Khalistan. Nijjar gained prominence in 2019, when he became the leader of Guru Nanak Sikh Gurudwara (temple) in Surrey, British Columbia, and became an advocate of Sikh separatism. Nijjar was also associated with Sikhs for Justice (SFJ), and spearheaded the group\\'s Khalistan Referendum 2020 campaign.On 18 June 2023, Nijjar was shot and killed in the parking lot of a Sikh temple in British Columbia. On 18 September 2023, Canadian Prime Minister Justin Trudeau stated that Canadian intelligence agencies were \"pursuing credible allegations of a potential link\" between Indian government agents and the assassination of Nijjar. After the killing, Canada expelled an Indian diplomat from the country. India\\'s foreign ministry denied involvement in the killing, and expelled a top Canadian diplomat in a tit-for-tat move. As of October 2023, the Canadian authorities have not made any arrests in connection with the murder, and Canada has provided no evidence implicating the Indian government.\\n\\n', 'source': 'https://en.wikipedia.org/wiki/Hardeep_Singh_Nijjar'}), Document(page_content='Nijjar is a surname found in India. Notable people with the surname include:\\n\\nAron Nijjar (born 1994), English cricketer\\nRob Nijjar (born 1967), Canadian politician\\nSunny Singh Nijjar, Indian actor\\nSurinder Singh Nijjar (1949–2021), Indian judge\\nHardeep Singh Nijjar (1977–2023), Canadian Sikh separatist leader', metadata={'title': 'Nijjar', 'summary': 'Nijjar is a surname found in India. Notable people with the surname include:\\n\\nAron Nijjar (born 1994), English cricketer\\nRob Nijjar (born 1967), Canadian politician\\nSunny Singh Nijjar, Indian actor\\nSurinder Singh Nijjar (1949–2021), Indian judge\\nHardeep Singh Nijjar (1977–2023), Canadian Sikh separatist leader', 'source': 'https://en.wikipedia.org/wiki/Nijjar'}), Document(page_content='Khalistan Tiger Force (KTF) is a militant outfit of the Khalistan movement. In February 2023, it was designated as a terrorist organization by the  Indian government.In May 2023, India\\'s National Investigation Agency (NIA) arrested two wanted persons at Delhi’s Indira Gandhi International Airport, who allegedly were close aides of KTF\\'s Arshdeep Singh, an “individual designated terrorist” based in Canada. In June 2023, NIA arrested Gagandeep Singh who allegedly is a close-aide of KTF operatives. Gagandeep Singh was also arrested previously in July 2021.In June 2023, Hardeep Singh Nijjar, the alleged chief of Khalistan Tiger Force, was shot dead outside a  Sikh Temple by unidentified assailants in Surrey, Canada. In September 2023, the Canadian Prime Minister Justin Trudeau said they had \"credible allegations\" linking the murder to India. Further, Canada expelled a top Indian diplomat, who was allegedly an  Indian Intelligence agent and possibly linked to the murder. In retaliation, India expelled a senior Canadian diplomat.\\n\\n\\n== Origin and leaders ==\\nKhalistan Tiger Force was formed by Jagtar Singh Tara, a former Babbar Khalsa International, another military organisation. KTF is allegedly backed by Pakistan’s Inter-Services Intelligence. Tara is currently serving a life sentence in India for his involvement in the assassination of former  Punjab Chief Minister Beant Singh in 1995. Tara had escaped from jail in 2004, but was rearrested in Thailand in 2015 and brought to India.\\n\\n\\n=== Hardeep Singh Nijjar ===\\nAccording to the Indian government, Hardeep Singh Nijjar was the leader of Khalistan Tiger Force, and he was actively involved in the training and financing of militants for the organization. Nijjar allegedly visited Pakistan in 2013-14 to meet with Jagtar Singh Tara. Nijjar was also friendly with Dal Khalsa leader Gajinder Singh, one of the five hijackers of an Indian Airlines Flight 423 in 1981, who is allegedly in Pakistan. Nijjar\\'s name was also on the list of wanted people that former  Punjab Chief Minister, Captain Amarinder Singh handed over to Prime Minister Trudeau during the latter’s visit to India in 2018. Nijjar, 45, was shot dead outside a Sikh temple on 18 June in Surrey, a Vancouver suburb with a large Sikh population, three years after India had designated him as a terrorist.\\n\\n\\n== Activities ==\\nIn November 2011, KTF claimed ownership of abandoned explosives recovered from a car outside Ambala railway station, purported for an attempt to assassinate an Indian politician in retribution for his involvement in the 1984 Sikh massacre.On 12 April 2023, four Indian Army soldiers were killed in Bathinda; KTF claimed responsibility, although the police denied their involvement.\\n\\n\\n== Ban ==\\nIn February 2023, the Indian Government banned KTF on the grounds of it being a militant outfit that aims at reviving terrorism in Punjab and challenges the territorial integrity, unity, national security and sovereignty of India and promotes various acts of terrorism, including targeted killings in Punjab.\\n\\n\\n== References ==', metadata={'title': 'Khalistan Tiger Force', 'summary': 'Khalistan Tiger Force (KTF) is a militant outfit of the Khalistan movement. In February 2023, it was designated as a terrorist organization by the  Indian government.In May 2023, India\\'s National Investigation Agency (NIA) arrested two wanted persons at Delhi’s Indira Gandhi International Airport, who allegedly were close aides of KTF\\'s Arshdeep Singh, an “individual designated terrorist” based in Canada. In June 2023, NIA arrested Gagandeep Singh who allegedly is a close-aide of KTF operatives. Gagandeep Singh was also arrested previously in July 2021.In June 2023, Hardeep Singh Nijjar, the alleged chief of Khalistan Tiger Force, was shot dead outside a  Sikh Temple by unidentified assailants in Surrey, Canada. In September 2023, the Canadian Prime Minister Justin Trudeau said they had \"credible allegations\" linking the murder to India. Further, Canada expelled a top Indian diplomat, who was allegedly an  Indian Intelligence agent and possibly linked to the murder. In retaliation, India expelled a senior Canadian diplomat.\\n\\n', 'source': 'https://en.wikipedia.org/wiki/Khalistan_Tiger_Force'}), Document(page_content='Canada–India relations also referred to as Indo-Canadian relations, are the bilateral relations between Canada and India. In 2022, bilateral trade between India and Canada was at about C$15.14 billion.\\n\\n\\n== History ==\\n\\n\\n=== 19th century ===\\nIn 1858, Queen Victoria proclaimed that, throughout the Empire, the people of India would enjoy equal privileges with white people without discrimination of colour, creed or race. Since both Canada and India were under British Crown rule, ex-army men from the British Indian Army migrated to Canada to start a new life. However, what awaited them was racism and discrimination. Many settled in Western Canada, which was sparsely populated at the time, and worked as law enforcement officers due to their military history. They also worked in forest clearing as lumberjacks and owned lumber mills. However, race relations with white Canadians were strained. The socioeconomic systems that advantages white people ensured that racialization and minimal direct contact (e.g. ethnic gatekeeping) remained the same by setting up various barriers. This dynamic continues implicitly and explicitly into the 21st century internally within the country, and the external intercontinental cordiality is also fraught with similar relationship dynamics.\\n\\n\\n=== 20th century ===\\nIn the 1940s and 1960s Canada–India relations were enhanced because of the personal ties which developed between Indian Prime Minister Jawaharlal Nehru and two Canadian Prime Ministers who served during those years: Louis St. Laurent and Lester B. Pearson. At the United Nations and in the Commonwealth, on issues as diverse as the Korean War armistice and the Suez Crisis, there was a convergence of interest and commitment between India and Canada. Canada\\'s aid programme to India began in 1951 and grew substantially under the Colombo Plan. Canada provided food aid, project financing and technical assistance to India. In the past five decades India has been one of the largest recipients of Canadian bilateral aid, amounting to over $3.8 billion Canadian dollars. In the 1960s, Canada supported the Kundah hydro-electric power house project through the Colombo Plan.Indo-Canadian relations deteriorated in the wake of India\\'s Smiling Buddha nuclear test of May 1974 when the Canadian government severed bilateral nuclear cooperation with both India and Pakistan in 1976 after claims that the fissionable material used to construct India\\'s first nuclear weapon had been synthesized with the Canadian-supplied CIRUS nuclear research reactor. Thereafter Canada resolved to engage in nuclear cooperation only with countries which signed the Treaty on the Non-Proliferation of Nuclear Weapons (NPT) and the Comprehensive Nuclear-Test-Ban Treaty (CTBT), and which instituted full-scope safeguards on their nuclear energy programmes under the supervision of the International Atomic Energy Agency (IAEA). India and Pakistan are two nations that have both consistently refused to sign the NPT, and voted against UN General Assembly Resolutions which they assert violates their nation\\'s sovereign right to choose whether or not to sign such treaties. In early February 1997, Foreign Minister I.K.Gujral re-iterated India\\'s opposition to the treaty, saying that \"India favours any step aimed at destroying nuclear weapons, but considers that the treaty in its current form is not comprehensive and bans only certain types of tests\". At that time, Canada persistently refused to engage in nuclear co-operation with India and Pakistan until and unless they sign the treaty ended its nuclear collaboration with India for the time being, and severely damaged relations between the two nations. However, in 2010, the signing of the Nuclear Cooperation Agreement (NCA) between the two countries started a new era of engagement. A follow-on agreement was signed in 2015 to supply 3000 metric ton Uranium concentrate to India under five-year contract.Indira Gandhi was the second Indian prime minister to mak', metadata={'title': 'Canada–India relations', 'summary': 'Canada–India relations also referred to as Indo-Canadian relations, are the bilateral relations between Canada and India. In 2022, bilateral trade between India and Canada was at about C$15.14 billion.\\n\\n', 'source': 'https://en.wikipedia.org/wiki/Canada%E2%80%93India_relations'}), Document(page_content=\"Gurpatwant Singh Pannun is one of the main leaders of the Khalistan movement, which advocates for a religion-based separate state carved out from Punjab and many neighbouring areas in India, to be known as Khalistan. He is the legal advisor and spokesperson for Sikhs for Justice (SFJ), which aims to promote the idea of a separate Sikh state. As of July 2020, the Ministry of Home Affairs of India has declared Pannun a terrorist on the grounds of sedition and secessionism, and has requested an Interpol red notice for him.\\n\\n\\n== Early life and background ==\\nPannun was born and brought up in Khankot village at the outskirts of Amritsar, Punjab, India.\\n\\n\\n== Activities ==\\nPannun has been actively involved in lobbying for the cause of Khalistan and has been organizing events and rallies in different parts of the world, including the United States, Canada, and the United Kingdom. He has also been involved in filing lawsuits against Indian officials and institutions in international courts, alleging human rights violations against Sikhs.Pannun has claimed responsibility for various terror incidents in India. In April 2023, in a video, he issued a threat to the Indian Prime Minister Narendra Modi during his visit to Assam. In June 2023, Pannun went into hiding after the death of three other prominent Khalistani leaders in 2 months.In July 2023, the Khalistani leader resurfaced in a video claimed to be shot near the UN headquarters in New York, USA. In this video, Pannun claims responsibility for the posters calling for killing Indian diplomats across North America and Europe and says that he will lead Khalsa Panth to get the flag of the country of Khalistan separated from India on the UN HQ.In September 2023, Pannun threatened Indo-Canadian Hindus and advised them to leave Canada.\\n\\n\\n== Legal issues ==\\nIn 2020, Pannun was declared a designated terrorist by Government of India and his agricultural land was attached under Section 51A of Unlawful Activities (Prevention) Act. Pannun is facing 22 criminal cases, including three of sedition, in Punjab, India. In October 2022, Interpol rejected India's second request to issue a Red Corner Notice on terror charges against Gurpatwant Singh Pannun, on the grounds of insufficient information.\\n\\n\\n== References ==\", metadata={'title': 'Gurpatwant Singh Pannun', 'summary': 'Gurpatwant Singh Pannun is one of the main leaders of the Khalistan movement, which advocates for a religion-based separate state carved out from Punjab and many neighbouring areas in India, to be known as Khalistan. He is the legal advisor and spokesperson for Sikhs for Justice (SFJ), which aims to promote the idea of a separate Sikh state. As of July 2020, the Ministry of Home Affairs of India has declared Pannun a terrorist on the grounds of sedition and secessionism, and has requested an Interpol red notice for him.', 'source': 'https://en.wikipedia.org/wiki/Gurpatwant_Singh_Pannun'}), Document(page_content=\"The 141st IOC Session was an IOC Session that was held in Mumbai, India from 15 to 17 October 2023.\\n\\n\\n== Bidders ==\\nMumbai stood as the only bidder to host the session. The IOC membership approved Mumbai's application during the 2022 Winter Olympics in Beijing. This will mark the second time an IOC Session is held in India. The 86th IOC Session in 1983 was held in New Delhi. Due to several problems related to Indian Olympic Association, the session was delayed to October 2023.\\n\\n\\n== Agenda ==\\nSeveral items were on the agenda during the three-day IOC Session. The host city for the 2030 Winter Olympics was initially going to be selected at this session, but the IOC pushed that date back to 2024.\\n\\n\\n=== Optional Sports for 2028 Summer Olympics ===\\nThe IOC added five new sports for the program of the 2028 Summer Olympics in Los Angeles. \\nIn August 2022, it was confirmed that nine sports had bid to be included in the games, with presentations made later that month. They were:\\n\\nCricket (International Cricket Council)\\nBreak-dancing (World DanceSport Federation)\\nBaseball/softball (World Baseball Softball Confederation)\\nFlag Football (International Federation of American Football)\\nLacrosse (World Lacrosse)\\nKarate (World Karate Federation)\\nKickboxing (World Association of Kickboxing Organizations)\\nSquash (World Squash Federation)\\nMotorsport (Fédération Internationale de l'Automobile)In October 2023, it was announced that the LA28 Olympic Organizing Committee announced that 5 sports were officially proposed to the IOC for the 2028 games, those being Flag Football, Cricket, Lacrosse, Squash, and Baseball/Softball. On October 16, the IOC membership approved the inclusion of the additional sports. \\n\\n\\n=== Election of new IOC members ===\\nNew IOC members were elected at this session. The following individuals were elected:\\n\\n Yael Arad\\n Balázs Fürjes\\n Cecilia Roxana Tait Villacorta\\n Michelle Yeoh\\n Michael Mronz\\n Petra Sörling\\n Kim Jae Youl\\n Mehrez Boussayene\\n\\n\\n== Attendance of Canadian IOC members ==\\nIOC member Tricia Smith and honorary IOC member Richard Pound are both Canadian citizens holding Canadian passports. Following the 2023 Canada–India diplomatic crisis, India announced that it would not grant visas to Canadian citizens after Prime Minister Justin Trudeau alleged Indian government involvement in the murder of Sikh separatist Hardeep Singh Nijjar, who was a Canadian citizen. The IOC confirmed that they were following up on the situation concerning visas for Canadian citizens. \\n\\n\\n== References ==\", metadata={'title': '141st IOC Session', 'summary': 'The 141st IOC Session was an IOC Session that was held in Mumbai, India from 15 to 17 October 2023.', 'source': 'https://en.wikipedia.org/wiki/141st_IOC_Session'}), Document(page_content='Vadda Ghalughara (Punjabi: ਵੱਡਾ ਘੱਲੂਘਾਰਾ, romanized: ʋəɖɖɑ kə̀lːuɡɑ̀ɾɑ, lit.\\u2009\\'Greater Massacre\\'; alternatively spelt as Wadda Ghalughara) was the mass murder of unarmed Sikhs by the Afghan forces of the Durrani Empire during the years of Afghan influence in the Punjab region of the Indian subcontinent owing to the repeated incursions of Ahmad Shah Durrani in February 1762. It is distinguished from the Chhota Ghalughara (the Smaller Massacre). Mostly non-combatants were killed in the event, and an estimated that 10,000 to 50,000 Sikhs were killed on 5 February 1762.The Vadda Ghalūghārā was a dramatic and bloody massacre during the campaign of Afghanistan\\'s (Durrani Empire) provincial government based at Lahore to wipe out the Sikhs, an offensive that had begun with the Mughals and lasted several decades.\\n\\n\\n== Background ==\\n\\n\\n=== Persecution of the Sikhs (1746–1762) ===\\nIn the 18 years following the Chhota Ghalughara, Punjab was roiled with five invasions and had several years of rebellions and civil war. Under these unsettled circumstances, it was difficult for any authority to carry on a campaign of oppression against the Sikhs; instead the Sikhs were often sought and valued as useful allies in the various struggles for power.In these times of relative calm, however, Shah Nawaz, the governor at Lahore in 1747 and his Afghan allies resumed their genocidal campaigns against the Sikhs. This period was characterised by the desecration of Sikh places of worship and the organised capture, torture and merciless execution of tens of thousands of Sikh men, women and children.\\n\\n\\n=== The governorship of Mir Mannu ===\\nMir Mannu (Mu\\'in ul-Mulk) became governor of Lahore and the surrounding provinces in 1748 and, continued to hold that position for the next five years until 1753 through his exploits in battle against the Afghan army. His first act as governor was to take control of Ram Rauni, the Sikh fort at Amritsar, where 500 Sikhs had taken shelter. To take control of the fort and defeat the Sikhs, Mir sent word to Adina Beg, the commander of the army of Jalandhar. Both the armies of Lahore and Jalandhar eventually laid siege to the fort, and despite much resistance from the Sikhs, it eventually fell to them. Mir Mannu then stationed detachments of troops in all parts of Punjab with any Sikh inhabitants with orders to capture them and shave their heads and beards. His oppression was such that large numbers of Sikhs moved to relatively inaccessible mountains and forests. The governor ordered the apprehending of Sikhs who were sent in irons to Lahore. Hundreds were thus taken to Lahore and executed in the horse market before crowds of onlookers. According to the historian Nur Ahmed Chishti, Mir Mannu ordered the execution of more than 1,100 Sikhs at the horse market of Shahidganj during Eid.Partly through the influence of his Hindu minister, Kaura Mall, who was sympathetic to the Sikhs, and partly because of the threat of another Afghan invasion, Mir Mannu made peace with the Sikhs the next year. They were granted a piece of land near Patti. This truce did not last long as in the next Afghan invasion the artillery of Lahore attacked the Sikhs of Dal Khalsa under Sukha Singh. The Sikh army left promptly after this attack, which led to the eventual defeat and fall of Lahore to Durrani. Kaura Mall was also eventually murdered by Adina Beg at the hands of a Pathan in the battle against the Afghans in 1752. Lahore was soon surrendered to the invader Ahmad Shah Durrani. The land given to the Sikhs was also seized back from them. \\nIn his new role as governor for the Afghans, Mir Mannu was able to resume his persecution of the Sikhs. Moreover, he had arranged for new artillery to be forged and a unit of 900 men assigned especially to the hunting down of the \"infidels\". In the words of an eyewitness: \"Muin appointed most of the gunmen to the task of chastising the Sikhs. They ran after these wretches up to 67 kilometers (42 mi) a day and slew them', metadata={'title': 'Vadda Ghalughara', 'summary': \"Vadda Ghalughara (Punjabi: ਵੱਡਾ ਘੱਲੂਘਾਰਾ, romanized: ʋəɖɖɑ kə̀lːuɡɑ̀ɾɑ, lit.\\u2009'Greater Massacre'; alternatively spelt as Wadda Ghalughara) was the mass murder of unarmed Sikhs by the Afghan forces of the Durrani Empire during the years of Afghan influence in the Punjab region of the Indian subcontinent owing to the repeated incursions of Ahmad Shah Durrani in February 1762. It is distinguished from the Chhota Ghalughara (the Smaller Massacre). Mostly non-combatants were killed in the event, and an estimated that 10,000 to 50,000 Sikhs were killed on 5 February 1762.The Vadda Ghalūghārā was a dramatic and bloody massacre during the campaign of Afghanistan's (Durrani Empire) provincial government based at Lahore to wipe out the Sikhs, an offensive that had begun with the Mughals and lasted several decades.\", 'source': 'https://en.wikipedia.org/wiki/Vadda_Ghalughara'}), Document(page_content=\"Bhar Singh Pura (Punjabi: ਭਾਰ ਸਿੰਘ ਪੂਰਾ) is a village in Phillaur tehsil of Jalandhar District of Punjab State, India. It is located 10 km away from Phillaur. It is one of the medium-sized villages in Punjab. Almost one-third of the population of this village lives abroad. The outskirts of the village are lined with designers Kothies (Big Houses) built by the NRIs, who have a silent competition to show their worth. There is a full site of this village on Facebook. A number of people from this village have achieved remarkable positions in India as well abroad. NRIs have made a full-fledged gym in the village for the youth. The village has a Senior Secondary school and a good private-public school (Everlasting Convent School).\\n\\n\\n== Caste ==\\nThe main castes in this village are Jats, Harijans, Goldsmith, Brahman, and Weavers etc. The village has schedule caste (SC) constitutes 60.22% of total population of the village and it doesn't have any Schedule Tribe (ST) population.\\n\\n\\n== Famous people ==\\nSurinder Singh Nijjar (Judge of the Supreme Court of India).\\nCh Muhammad Jameel who became Member Provisional Assembly (Punjab, Pakistan) his family migrated at the time of Partition in 1947 to Pakistan, also belongs to Bhar Singh Pura. He is Arain (Jalandhar).\\nMandip Nijor from the UK who specialises in e-commerce and software development in the UK.World renowned Dhadi Jatha whose members are Dhadi Harbans Singh Josh , Dhadi Gurbachan Singh Ankhi and Sarangi Master Harmail Singh Dilbar these 3 brothers who now live in the U.K. have been awarded gold medals by the pind for their Seva for SikhiNavdeep Kaur Bassi, previously known as Navdeep Kaur Nijjar. From the UK specialised in Neonatal Care.Hardeep Singh Nijjar, a Canadian Sikh separatist leader involved with the Khalistan movement who was assassinated on 18 June 2023. \\n\\n\\n== Nearby villages ==\\nApra\\nBansian\\nNagar\\nThalla\\nRaipur\\nDayalpur\\n\\n\\n== References ==\", metadata={'title': 'Bhar Singh Pura', 'summary': 'Bhar Singh Pura (Punjabi: ਭਾਰ ਸਿੰਘ ਪੂਰਾ) is a village in Phillaur tehsil of Jalandhar District of Punjab State, India. It is located 10 km away from Phillaur. It is one of the medium-sized villages in Punjab. Almost one-third of the population of this village lives abroad. The outskirts of the village are lined with designers Kothies (Big Houses) built by the NRIs, who have a silent competition to show their worth. There is a full site of this village on Facebook. A number of people from this village have achieved remarkable positions in India as well abroad. NRIs have made a full-fledged gym in the village for the youth. The village has a Senior Secondary school and a good private-public school (Everlasting Convent School).', 'source': 'https://en.wikipedia.org/wiki/Bhar_Singh_Pura'}), Document(page_content='Mélanie Joly  (born January 16, 1979) is a Canadian politician and lawyer who has served as minister of Foreign Affairs since October 2021. A member of the Liberal Party, Joly represents the Montreal-area riding of Ahuntsic-Cartierville in the House of Commons, taking office as a member of Parliament (MP) following the 2015 federal election. She has held a number of portfolios including Canadian heritage, tourism, and La Francophonie. Joly ran for mayor of Montreal in the 2013 Montreal municipal election, placing second behind eventual winner Denis Coderre.\\nBorn in Montreal, Quebec, Joly graduated from Université de Montréal and Brasenose College, Oxford.\\n\\n\\n== Early and personal life ==\\nBorn on January 16, 1979, she grew up in Montreal\\'s northern neighbourhood of Ahuntsic. Joly\\'s father is Clément Joly, an accountant who was president of the Liberal Party\\'s finance committee in Quebec and manager of the Canadian Air Transport Security Authority from 2002 to 2007. Her stepmother, Carole-Marie Allard, is a lawyer and journalist, who was an MP representing Laval—East from 2000 to 2004.\\n\\n\\n== Education and career ==\\nAfter completing her Bachelor of Laws degree at the Université de Montréal in 2001, Joly became a member of the Barreau du Québec. She subsequently received the Chevening scholarship and continued her studies at Brasenose College, Oxford, where she received a Magister Juris in comparative and public law in 2003. Joly also interned at Radio-Canada, in 2007.At the beginning of her career, Joly practiced law at two major Montreal law firms, Stikeman Elliott and Davies Ward Phillips & Vineberg. At the latter firm, her mentor was former Parti Quebecois premier Lucien Bouchard, who supplied her with a letter of recommendation for her Oxford application. She worked primarily in the areas of civil and commercial litigation, bankruptcy and insolvency law. She was also a prosecutor before the Gomery Commission of inquiry.In 2010, she became the first Quebecer to receive the Arnold Edinborough award, which recognizes philanthropic involvement within the Canadian cultural community.In 2013, she was appointed to head the Quebec Advisory Committee for Justin Trudeau’s leadership campaign of the Liberal Party of Canada.\\nAlong with her colleagues, she founded Generation of Ideas, which is a political forum for 25- to 35-year-olds. She is also a member of the collective group Sortie 13, for which she wrote \"Les villes au pouvoir ou comment relancer le monde municipal québécois\".\\n\\n\\n== Political career ==\\n\\n\\n=== Municipal campaign ===\\nIn June 2013, Joly announced her candidacy for mayor of Montreal in the elections which occurred in the same year. She founded a new party, Vrai changement pour Montréal, to support her candidacy. On November 3, election day, she obtained 26.50 per cent of the votes, finishing six points behind the winner, Denis Coderre. However, she finished ahead of several more established challengers.\\n\\n\\n=== Federal politics ===\\nIn 2015, Joly left municipal politics and announced her candidacy for the nomination of the Liberal Party of Canada in the new electoral district of Ahuntsic-Cartierville for the 2015 federal election. Joly won the riding with 47.5 per cent of the vote, unseating incumbent Maria Mourani.\\n\\n\\n==== In Cabinet ====\\nAfter the election, Joly was named as the minister of Canadian heritage as part of Prime Minister Justin Trudeau\\'s new government. On August 28, 2018, Joly was named to the tourism, official languages, and La Francophonie portfolio.She assumed the position of Minister of Economic Development and Official Languages on December 13, 2019. Her mandate was marked by the introduction of separate regional development agencies for Western Canada: Canada Economic Development for the Prairies (PrairieCan) and Canada Economic Development for the Pacific (PacifiCan).On June 15, 2021, she introduced Bill C-32 in the House of Commons, an Act to achieve substantive equality of English and French and to stre', metadata={'title': 'Mélanie Joly', 'summary': 'Mélanie Joly  (born January 16, 1979) is a Canadian politician and lawyer who has served as minister of Foreign Affairs since October 2021. A member of the Liberal Party, Joly represents the Montreal-area riding of Ahuntsic-Cartierville in the House of Commons, taking office as a member of Parliament (MP) following the 2015 federal election. She has held a number of portfolios including Canadian heritage, tourism, and La Francophonie. Joly ran for mayor of Montreal in the 2013 Montreal municipal election, placing second behind eventual winner Denis Coderre.\\nBorn in Montreal, Quebec, Joly graduated from Université de Montréal and Brasenose College, Oxford.', 'source': 'https://en.wikipedia.org/wiki/M%C3%A9lanie_Joly'})]\n"
     ]
    }
   ],
   "source": [
    "raw_documents = WikipediaLoader(query=\"Hardeep Singh Nijjar\").load()\n",
    "print(raw_documents)\n",
    "\n",
    "text_splitter = CharacterTextSplitter.from_tiktoken_encoder(\n",
    "    chunk_size=1000, chunk_overlap=20\n",
    ")\n",
    "\n",
    "documents = text_splitter.split_documents(raw_documents)"
   ]
  },
  {
   "cell_type": "code",
   "execution_count": null,
   "id": "27c5d780-e0e4-413e-a437-3424d38a7cfd",
   "metadata": {
    "id": "27c5d780-e0e4-413e-a437-3424d38a7cfd"
   },
   "outputs": [],
   "source": [
    "for d in documents:\n",
    "    del d.metadata[\"summary\"]"
   ]
  },
  {
   "cell_type": "code",
   "execution_count": null,
   "id": "380059c2-4651-4773-a9e4-db5ad63cb06d",
   "metadata": {
    "id": "380059c2-4651-4773-a9e4-db5ad63cb06d"
   },
   "outputs": [],
   "source": [
    "url = \"neo4j+s://0ceceb70.databases.neo4j.io\"\n",
    "username = \"neo4j\"\n",
    "password = \"***********************\"\n",
    "\n",
    "neo4j_vector = Neo4jVector.from_documents(\n",
    "    documents, OpenAIEmbeddings(), url=url, username=username, password=password\n",
    ")"
   ]
  },
  {
   "cell_type": "code",
   "execution_count": null,
   "id": "7d31a6a4-c4f9-4711-90c8-67d61dd7e7b5",
   "metadata": {
    "colab": {
     "base_uri": "https://localhost:8080/"
    },
    "id": "7d31a6a4-c4f9-4711-90c8-67d61dd7e7b5",
    "outputId": "b00e87cc-42f6-4c35-e457-0b07482fcd2f"
   },
   "outputs": [
    {
     "name": "stdout",
     "output_type": "stream",
     "text": [
      "Nijjar is a surname found in India. Notable people with the surname include:\n",
      "\n",
      "Aron Nijjar (born 1994), English cricketer\n",
      "Rob Nijjar (born 1967), Canadian politician\n",
      "Sunny Singh Nijjar, Indian actor\n",
      "Surinder Singh Nijjar (1949–2021), Indian judge\n",
      "Hardeep Singh Nijjar (1977–2023), Canadian Sikh separatist leader\n"
     ]
    }
   ],
   "source": [
    "query = \"Where did Nijjar grow up?\"\n",
    "\n",
    "results = neo4j_vector.similarity_search(query, k=1)\n",
    "print(results[0].page_content)"
   ]
  },
  {
   "cell_type": "code",
   "execution_count": null,
   "id": "9e7f27d1-cfb0-4b7b-8f7d-fb12465a17f9",
   "metadata": {
    "id": "9e7f27d1-cfb0-4b7b-8f7d-fb12465a17f9"
   },
   "outputs": [],
   "source": [
    "from langchain.chat_models import ChatOpenAI\n",
    "from langchain.chains import RetrievalQAWithSourcesChain\n",
    "\n",
    "chain = RetrievalQAWithSourcesChain.from_chain_type(\n",
    "    ChatOpenAI(temperature=0), chain_type=\"stuff\", retriever=neo4j_vector.as_retriever()\n",
    ")"
   ]
  },
  {
   "cell_type": "code",
   "execution_count": null,
   "id": "abf2fd1f-ee15-468b-8d3d-d934e2697b21",
   "metadata": {
    "colab": {
     "base_uri": "https://localhost:8080/"
    },
    "id": "abf2fd1f-ee15-468b-8d3d-d934e2697b21",
    "outputId": "98e9b637-3a33-4bbf-8c63-3a47090f2454"
   },
   "outputs": [
    {
     "data": {
      "text/plain": [
       "{'answer': \"Nijjar is a surname found in India. Notable people with the surname include Aron Nijjar (English cricketer), Rob Nijjar (Canadian politician), Sunny Singh Nijjar (Indian actor), Surinder Singh Nijjar (Indian judge), and Hardeep Singh Nijjar (Canadian Sikh separatist leader). Hardeep Singh Nijjar was involved with the Khalistan movement and was shot and killed in 2023. He was accused by the Indian government of being a criminal and terrorist affiliated with the Khalistan Tiger Force. Canada expelled an Indian diplomat in connection with his assassination. India denied involvement and expelled a top Canadian diplomat in retaliation. Nijjar's involvement with the Khalistan Tiger Force included training and financing militants for the organization. He was also associated with Sikhs for Justice and spearheaded the group's Khalistan Referendum 2020 campaign. The Khalistan Tiger Force is a militant outfit of the Khalistan movement and was banned by the Indian government in 2023. It aims to revive terrorism in Punjab and challenges the territorial integrity, unity, national security, and sovereignty of India. It has been involved in targeted killings and claimed responsibility for the deaths of Indian Army soldiers. The Khalistan Tiger Force is allegedly backed by Pakistan's Inter-Services Intelligence. Hardeep Singh Nijjar's assassination is being investigated for potential links to the Indian government. No arrests have been made in connection with the murder.\",\n",
       " 'sources': ''}"
      ]
     },
     "execution_count": 45,
     "metadata": {},
     "output_type": "execute_result"
    }
   ],
   "source": [
    "query = \"Who is nijjar?\"\n",
    "\n",
    "chain(\n",
    "    {\"question\": query},\n",
    "    return_only_outputs=True,\n",
    ")"
   ]
  },
  {
   "cell_type": "code",
   "execution_count": null,
   "id": "5dde9f1e-61a5-4b44-88c7-980c2b8cad86",
   "metadata": {
    "id": "5dde9f1e-61a5-4b44-88c7-980c2b8cad86"
   },
   "outputs": [],
   "source": [
    "from langchain.chains import ConversationalRetrievalChain\n",
    "from langchain.memory import ConversationBufferMemory\n",
    "\n",
    "memory = ConversationBufferMemory(memory_key=\"chat_history\", return_messages=True)\n",
    "qa = ConversationalRetrievalChain.from_llm(\n",
    "    ChatOpenAI(temperature=0), neo4j_vector.as_retriever(), memory=memory\n",
    ")"
   ]
  },
  {
   "cell_type": "markdown",
   "id": "xMhpHPNt8TND",
   "metadata": {
    "id": "xMhpHPNt8TND"
   },
   "source": [
    "Let's now test it out."
   ]
  },
  {
   "cell_type": "code",
   "execution_count": null,
   "id": "f5cef351-611e-4ac9-8bfd-ad2c435fd44e",
   "metadata": {
    "colab": {
     "base_uri": "https://localhost:8080/"
    },
    "id": "f5cef351-611e-4ac9-8bfd-ad2c435fd44e",
    "outputId": "7c3bade7-ae22-484d-b8e2-0abd5fabb92d"
   },
   "outputs": [
    {
     "name": "stdout",
     "output_type": "stream",
     "text": [
      "Nijjar was born in a village in Jalandhar, Punjab, India.\n"
     ]
    }
   ],
   "source": [
    "print(qa({\"question\": \"Where was nijjar born\"})[\"answer\"])"
   ]
  },
  {
   "cell_type": "markdown",
   "id": "N8njRP_l8VU8",
   "metadata": {
    "id": "N8njRP_l8VU8"
   },
   "source": [
    "And now a follow-up question."
   ]
  },
  {
   "cell_type": "code",
   "execution_count": null,
   "id": "f8221df3-c2ae-4a43-9d55-a0e472d48d96",
   "metadata": {
    "colab": {
     "base_uri": "https://localhost:8080/"
    },
    "id": "f8221df3-c2ae-4a43-9d55-a0e472d48d96",
    "outputId": "b3b7cdee-74fa-4763-c00e-e14f75e800a6"
   },
   "outputs": [
    {
     "name": "stdout",
     "output_type": "stream",
     "text": [
      "Nijjar, a Sikh separatist leader, fought tirelessly for the creation of Khalistan, an independent Sikh state. He migrated to Canada in the mid-1990s, where he became a prominent figure in the local Sikh community. Nijjar led peaceful protests, advocated for human rights, and organized a referendum in support of Khalistan. However, his activism made him a target. Tragically, on a fateful day in June 2023, Nijjar was assassinated outside a Sikh temple in British Columbia. The investigation into his murder revealed potential links to Indian government agents, sparking tensions between Canada and India. Nijjar's legacy as a passionate advocate for Sikh rights lives on.\n"
     ]
    }
   ],
   "source": [
    "print(qa({\"question\": \"Write a 100 word story about nijjar\"})[\"answer\"])"
   ]
  },
  {
   "cell_type": "code",
   "execution_count": null,
   "id": "7e9c944e-f356-4839-a30e-2cbd4cc46e4c",
   "metadata": {
    "id": "7e9c944e-f356-4839-a30e-2cbd4cc46e4c"
   },
   "outputs": [],
   "source": []
  }
 ],
 "metadata": {
  "colab": {
   "provenance": []
  },
  "kernelspec": {
   "display_name": "Python 3 (ipykernel)",
   "language": "python",
   "name": "python3"
  },
  "language_info": {
   "codemirror_mode": {
    "name": "ipython",
    "version": 3
   },
   "file_extension": ".py",
   "mimetype": "text/x-python",
   "name": "python",
   "nbconvert_exporter": "python",
   "pygments_lexer": "ipython3",
   "version": "3.11.4"
  }
 },
 "nbformat": 4,
 "nbformat_minor": 5
}
